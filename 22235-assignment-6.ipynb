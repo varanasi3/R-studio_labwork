{
 "cells": [
  {
   "cell_type": "markdown",
   "id": "77307691",
   "metadata": {},
   "source": [
    "# MDSC- 201(p)"
   ]
  },
  {
   "cell_type": "markdown",
   "id": "dc22e2b3",
   "metadata": {},
   "source": [
    "## Name : V.Sai Kumar \n",
    "## Reg.no : 22235"
   ]
  },
  {
   "cell_type": "markdown",
   "id": "b8d4d880",
   "metadata": {},
   "source": [
    "# TOPIC : Reading CSV Files"
   ]
  },
  {
   "cell_type": "code",
   "execution_count": 21,
   "id": "a5ad7cd4",
   "metadata": {},
   "outputs": [],
   "source": [
    "## reading the csv data into variable"
   ]
  },
  {
   "cell_type": "code",
   "execution_count": 10,
   "id": "024fae6f",
   "metadata": {},
   "outputs": [
    {
     "data": {
      "text/html": [
       "<table class=\"dataframe\">\n",
       "<caption>A data.frame: 6 × 3</caption>\n",
       "<thead>\n",
       "\t<tr><th></th><th scope=col>meal_id</th><th scope=col>category</th><th scope=col>cuisine</th></tr>\n",
       "\t<tr><th></th><th scope=col>&lt;int&gt;</th><th scope=col>&lt;chr&gt;</th><th scope=col>&lt;chr&gt;</th></tr>\n",
       "</thead>\n",
       "<tbody>\n",
       "\t<tr><th scope=row>1</th><td>1885</td><td>Beverages</td><td>Thai  </td></tr>\n",
       "\t<tr><th scope=row>2</th><td>1993</td><td>Beverages</td><td>Thai  </td></tr>\n",
       "\t<tr><th scope=row>3</th><td>2539</td><td>Beverages</td><td>Thai  </td></tr>\n",
       "\t<tr><th scope=row>4</th><td>1248</td><td>Beverages</td><td>Indian</td></tr>\n",
       "\t<tr><th scope=row>5</th><td>2631</td><td>Beverages</td><td>Indian</td></tr>\n",
       "\t<tr><th scope=row>6</th><td>1311</td><td>Extras   </td><td>Thai  </td></tr>\n",
       "</tbody>\n",
       "</table>\n"
      ],
      "text/latex": [
       "A data.frame: 6 × 3\n",
       "\\begin{tabular}{r|lll}\n",
       "  & meal\\_id & category & cuisine\\\\\n",
       "  & <int> & <chr> & <chr>\\\\\n",
       "\\hline\n",
       "\t1 & 1885 & Beverages & Thai  \\\\\n",
       "\t2 & 1993 & Beverages & Thai  \\\\\n",
       "\t3 & 2539 & Beverages & Thai  \\\\\n",
       "\t4 & 1248 & Beverages & Indian\\\\\n",
       "\t5 & 2631 & Beverages & Indian\\\\\n",
       "\t6 & 1311 & Extras    & Thai  \\\\\n",
       "\\end{tabular}\n"
      ],
      "text/markdown": [
       "\n",
       "A data.frame: 6 × 3\n",
       "\n",
       "| <!--/--> | meal_id &lt;int&gt; | category &lt;chr&gt; | cuisine &lt;chr&gt; |\n",
       "|---|---|---|---|\n",
       "| 1 | 1885 | Beverages | Thai   |\n",
       "| 2 | 1993 | Beverages | Thai   |\n",
       "| 3 | 2539 | Beverages | Thai   |\n",
       "| 4 | 1248 | Beverages | Indian |\n",
       "| 5 | 2631 | Beverages | Indian |\n",
       "| 6 | 1311 | Extras    | Thai   |\n",
       "\n"
      ],
      "text/plain": [
       "  meal_id category  cuisine\n",
       "1 1885    Beverages Thai   \n",
       "2 1993    Beverages Thai   \n",
       "3 2539    Beverages Thai   \n",
       "4 1248    Beverages Indian \n",
       "5 2631    Beverages Indian \n",
       "6 1311    Extras    Thai   "
      ]
     },
     "metadata": {},
     "output_type": "display_data"
    }
   ],
   "source": [
    "data <- read.csv(\"meal_info.csv\")\n",
    "\n",
    "\n",
    "head(data)"
   ]
  },
  {
   "cell_type": "code",
   "execution_count": 12,
   "id": "57bccc52",
   "metadata": {},
   "outputs": [
    {
     "name": "stdout",
     "output_type": "stream",
     "text": [
      "Total Columns:  3"
     ]
    }
   ],
   "source": [
    "## gives the number of columns in the dataset\n",
    "cat(\"Total Columns: \", ncol(data)) "
   ]
  },
  {
   "cell_type": "code",
   "execution_count": 13,
   "id": "9dd23091",
   "metadata": {},
   "outputs": [
    {
     "name": "stdout",
     "output_type": "stream",
     "text": [
      "Total Rows: 51"
     ]
    }
   ],
   "source": [
    "## gives the number of rows in the dataset\n",
    "\n",
    "cat(\"Total Rows:\", nrow(data))"
   ]
  },
  {
   "cell_type": "code",
   "execution_count": 14,
   "id": "7a185731",
   "metadata": {},
   "outputs": [
    {
     "name": "stdout",
     "output_type": "stream",
     "text": [
      "[1] 1062\n"
     ]
    }
   ],
   "source": [
    "## gives the minimum value  in the given column of the dataset\n",
    "\n",
    "\n",
    "min_data <- min(data$meal_id)  \n",
    "print(min_data)"
   ]
  },
  {
   "cell_type": "code",
   "execution_count": 15,
   "id": "e40c5e92",
   "metadata": {},
   "outputs": [
    {
     "name": "stdout",
     "output_type": "stream",
     "text": [
      "[1] 2956\n"
     ]
    }
   ],
   "source": [
    "## gives the maximum value  in the given column of the dataset\n",
    "\n",
    "\n",
    "max_data <- max(data$meal_id)  \n",
    "print(max_data)"
   ]
  },
  {
   "cell_type": "code",
   "execution_count": 16,
   "id": "35ab9533",
   "metadata": {},
   "outputs": [
    {
     "name": "stdout",
     "output_type": "stream",
     "text": [
      "   meal_id     category     cuisine\n",
      "1     1885    Beverages        Thai\n",
      "2     1993    Beverages        Thai\n",
      "3     2539    Beverages        Thai\n",
      "5     2631    Beverages      Indian\n",
      "8     1778    Beverages     Italian\n",
      "9     1803       Extras        Thai\n",
      "11    2707    Beverages     Italian\n",
      "12    1847         Soup        Thai\n",
      "14    2494         Soup        Thai\n",
      "15    2760 Other Snacks        Thai\n",
      "16    2490        Salad     Italian\n",
      "18    2290    Rice Bowl      Indian\n",
      "19    1525 Other Snacks        Thai\n",
      "20    2704 Other Snacks        Thai\n",
      "21    1878     Starters        Thai\n",
      "22    2640     Starters        Thai\n",
      "23    2577     Starters        Thai\n",
      "24    1754     Sandwich     Italian\n",
      "25    1971     Sandwich     Italian\n",
      "26    2306        Pasta     Italian\n",
      "27    2139    Beverages      Indian\n",
      "28    2826     Sandwich     Italian\n",
      "29    2664        Salad     Italian\n",
      "30    2569        Salad     Italian\n",
      "33    2322    Beverages Continental\n",
      "34    2492       Desert      Indian\n",
      "36    1727    Rice Bowl      Indian\n",
      "37    1902      Biryani      Indian\n",
      "39    2304       Desert      Indian\n",
      "40    1543       Desert      Indian\n",
      "41    1770      Biryani      Indian\n",
      "42    2126        Pasta     Italian\n",
      "43    1558        Pizza Continental\n",
      "44    2581        Pizza Continental\n",
      "45    1962        Pizza Continental\n",
      "46    1571         Fish Continental\n",
      "47    2956         Fish Continental\n",
      "48    2104         Fish Continental\n",
      "49    2444      Seafood Continental\n",
      "50    2867      Seafood Continental\n"
     ]
    }
   ],
   "source": [
    "# return subset of csv where number of meal id \n",
    "# is greater than 1500 \n",
    "\n",
    "\n",
    "sub_data <- subset(data, meal_id > 1500) \n",
    "print(sub_data)"
   ]
  },
  {
   "cell_type": "code",
   "execution_count": 17,
   "id": "7a7dd26c",
   "metadata": {},
   "outputs": [],
   "source": [
    "## Creating New Dataframe\n",
    "\n",
    "\n",
    "dataframe1 <- data.frame (\n",
    "  Name = c(\"Juan\", \"Alcaraz\", \"Simantha\"),\n",
    "  Age = c(22, 15, 19),\n",
    "  Vote = c(TRUE, FALSE, TRUE))"
   ]
  },
  {
   "cell_type": "code",
   "execution_count": 18,
   "id": "37d808d9",
   "metadata": {},
   "outputs": [
    {
     "data": {
      "text/html": [
       "<table class=\"dataframe\">\n",
       "<caption>A data.frame: 3 × 3</caption>\n",
       "<thead>\n",
       "\t<tr><th scope=col>Name</th><th scope=col>Age</th><th scope=col>Vote</th></tr>\n",
       "\t<tr><th scope=col>&lt;chr&gt;</th><th scope=col>&lt;dbl&gt;</th><th scope=col>&lt;lgl&gt;</th></tr>\n",
       "</thead>\n",
       "<tbody>\n",
       "\t<tr><td>Juan    </td><td>22</td><td> TRUE</td></tr>\n",
       "\t<tr><td>Alcaraz </td><td>15</td><td>FALSE</td></tr>\n",
       "\t<tr><td>Simantha</td><td>19</td><td> TRUE</td></tr>\n",
       "</tbody>\n",
       "</table>\n"
      ],
      "text/latex": [
       "A data.frame: 3 × 3\n",
       "\\begin{tabular}{lll}\n",
       " Name & Age & Vote\\\\\n",
       " <chr> & <dbl> & <lgl>\\\\\n",
       "\\hline\n",
       "\t Juan     & 22 &  TRUE\\\\\n",
       "\t Alcaraz  & 15 & FALSE\\\\\n",
       "\t Simantha & 19 &  TRUE\\\\\n",
       "\\end{tabular}\n"
      ],
      "text/markdown": [
       "\n",
       "A data.frame: 3 × 3\n",
       "\n",
       "| Name &lt;chr&gt; | Age &lt;dbl&gt; | Vote &lt;lgl&gt; |\n",
       "|---|---|---|\n",
       "| Juan     | 22 |  TRUE |\n",
       "| Alcaraz  | 15 | FALSE |\n",
       "| Simantha | 19 |  TRUE |\n",
       "\n"
      ],
      "text/plain": [
       "  Name     Age Vote \n",
       "1 Juan     22   TRUE\n",
       "2 Alcaraz  15  FALSE\n",
       "3 Simantha 19   TRUE"
      ]
     },
     "metadata": {},
     "output_type": "display_data"
    }
   ],
   "source": [
    "## Printing the new dataframe\n",
    "\n",
    "dataframe1"
   ]
  },
  {
   "cell_type": "code",
   "execution_count": 19,
   "id": "17e2a3ec",
   "metadata": {},
   "outputs": [],
   "source": [
    "# write dataframe1 into file1 csv file\n",
    "\n",
    "\n",
    "write.csv(dataframe1, \"file1.csv\")"
   ]
  },
  {
   "cell_type": "code",
   "execution_count": 20,
   "id": "1f9709ef",
   "metadata": {},
   "outputs": [
    {
     "name": "stdout",
     "output_type": "stream",
     "text": [
      "  X     Name Age  Vote\n",
      "1 1     Juan  22  TRUE\n",
      "2 2  Alcaraz  15 FALSE\n",
      "3 3 Simantha  19  TRUE\n"
     ]
    }
   ],
   "source": [
    "## again reading that dataframe into variable\n",
    "\n",
    "read_data2 <- read.csv(\"file1.csv\")\n",
    "print(read_data2)"
   ]
  }
 ],
 "metadata": {
  "kernelspec": {
   "display_name": "R",
   "language": "R",
   "name": "ir"
  },
  "language_info": {
   "codemirror_mode": "r",
   "file_extension": ".r",
   "mimetype": "text/x-r-source",
   "name": "R",
   "pygments_lexer": "r",
   "version": "4.2.2"
  }
 },
 "nbformat": 4,
 "nbformat_minor": 5
}
