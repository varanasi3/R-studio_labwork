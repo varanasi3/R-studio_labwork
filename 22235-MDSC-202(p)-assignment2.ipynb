{
 "cells": [
  {
   "cell_type": "code",
   "execution_count": 4,
   "id": "1b6c05a7",
   "metadata": {},
   "outputs": [
    {
     "data": {
      "text/html": [
       "<table class=\"dataframe\">\n",
       "<caption>A matrix: 2 × 2 of type dbl</caption>\n",
       "<tbody>\n",
       "\t<tr><td>1</td><td>8</td></tr>\n",
       "\t<tr><td>5</td><td>2</td></tr>\n",
       "</tbody>\n",
       "</table>\n"
      ],
      "text/latex": [
       "A matrix: 2 × 2 of type dbl\n",
       "\\begin{tabular}{ll}\n",
       "\t 1 & 8\\\\\n",
       "\t 5 & 2\\\\\n",
       "\\end{tabular}\n"
      ],
      "text/markdown": [
       "\n",
       "A matrix: 2 × 2 of type dbl\n",
       "\n",
       "| 1 | 8 |\n",
       "| 5 | 2 |\n",
       "\n"
      ],
      "text/plain": [
       "     [,1] [,2]\n",
       "[1,] 1    8   \n",
       "[2,] 5    2   "
      ]
     },
     "metadata": {},
     "output_type": "display_data"
    }
   ],
   "source": [
    "A <- matrix(c(1, 8,5, 2), ncol = 2, byrow = TRUE)\n",
    "A"
   ]
  },
  {
   "cell_type": "code",
   "execution_count": 8,
   "id": "a5282489",
   "metadata": {},
   "outputs": [
    {
     "data": {
      "text/html": [
       "<table class=\"dataframe\">\n",
       "<caption>A matrix: 2 × 2 of type dbl</caption>\n",
       "<tbody>\n",
       "\t<tr><td>26</td><td>18</td></tr>\n",
       "\t<tr><td>18</td><td>68</td></tr>\n",
       "</tbody>\n",
       "</table>\n"
      ],
      "text/latex": [
       "A matrix: 2 × 2 of type dbl\n",
       "\\begin{tabular}{ll}\n",
       "\t 26 & 18\\\\\n",
       "\t 18 & 68\\\\\n",
       "\\end{tabular}\n"
      ],
      "text/markdown": [
       "\n",
       "A matrix: 2 × 2 of type dbl\n",
       "\n",
       "| 26 | 18 |\n",
       "| 18 | 68 |\n",
       "\n"
      ],
      "text/plain": [
       "     [,1] [,2]\n",
       "[1,] 26   18  \n",
       "[2,] 18   68  "
      ]
     },
     "metadata": {},
     "output_type": "display_data"
    }
   ],
   "source": [
    "\n",
    "AtA <- t(A) %*% A\n",
    "AtA"
   ]
  },
  {
   "cell_type": "code",
   "execution_count": 10,
   "id": "567fb0bc",
   "metadata": {},
   "outputs": [
    {
     "data": {
      "text/html": [
       "<table class=\"dataframe\">\n",
       "<caption>A matrix: 2 × 2 of type dbl</caption>\n",
       "<tbody>\n",
       "\t<tr><td>26</td><td>18</td></tr>\n",
       "\t<tr><td>18</td><td>68</td></tr>\n",
       "</tbody>\n",
       "</table>\n"
      ],
      "text/latex": [
       "A matrix: 2 × 2 of type dbl\n",
       "\\begin{tabular}{ll}\n",
       "\t 26 & 18\\\\\n",
       "\t 18 & 68\\\\\n",
       "\\end{tabular}\n"
      ],
      "text/markdown": [
       "\n",
       "A matrix: 2 × 2 of type dbl\n",
       "\n",
       "| 26 | 18 |\n",
       "| 18 | 68 |\n",
       "\n"
      ],
      "text/plain": [
       "     [,1] [,2]\n",
       "[1,] 26   18  \n",
       "[2,] 18   68  "
      ]
     },
     "metadata": {},
     "output_type": "display_data"
    }
   ],
   "source": [
    "AtA2 <- crossprod(A)\n",
    "AtA2"
   ]
  },
  {
   "cell_type": "code",
   "execution_count": 12,
   "id": "b9490702",
   "metadata": {},
   "outputs": [
    {
     "data": {
      "text/html": [
       "<table class=\"dataframe\">\n",
       "<caption>A matrix: 2 × 2 of type dbl</caption>\n",
       "<tbody>\n",
       "\t<tr><td> 356</td><td>2848</td></tr>\n",
       "\t<tr><td>1780</td><td> 712</td></tr>\n",
       "</tbody>\n",
       "</table>\n"
      ],
      "text/latex": [
       "A matrix: 2 × 2 of type dbl\n",
       "\\begin{tabular}{ll}\n",
       "\t  356 & 2848\\\\\n",
       "\t 1780 &  712\\\\\n",
       "\\end{tabular}\n"
      ],
      "text/markdown": [
       "\n",
       "A matrix: 2 × 2 of type dbl\n",
       "\n",
       "|  356 | 2848 |\n",
       "| 1780 |  712 |\n",
       "\n"
      ],
      "text/plain": [
       "     [,1] [,2]\n",
       "[1,]  356 2848\n",
       "[2,] 1780  712"
      ]
     },
     "metadata": {},
     "output_type": "display_data"
    }
   ],
   "source": [
    "\n",
    "356*A"
   ]
  },
  {
   "cell_type": "markdown",
   "id": "a727d5ca",
   "metadata": {},
   "source": [
    "## Linear Combinations"
   ]
  },
  {
   "cell_type": "code",
   "execution_count": 15,
   "id": "68c45b06",
   "metadata": {},
   "outputs": [
    {
     "data": {
      "text/html": [
       "<table class=\"dataframe\">\n",
       "<caption>A matrix: 2 × 2 of type dbl</caption>\n",
       "<tbody>\n",
       "\t<tr><td> 2.2</td><td>17.6</td></tr>\n",
       "\t<tr><td>11.0</td><td> 4.4</td></tr>\n",
       "</tbody>\n",
       "</table>\n"
      ],
      "text/latex": [
       "A matrix: 2 × 2 of type dbl\n",
       "\\begin{tabular}{ll}\n",
       "\t  2.2 & 17.6\\\\\n",
       "\t 11.0 &  4.4\\\\\n",
       "\\end{tabular}\n"
      ],
      "text/markdown": [
       "\n",
       "A matrix: 2 × 2 of type dbl\n",
       "\n",
       "|  2.2 | 17.6 |\n",
       "| 11.0 |  4.4 |\n",
       "\n"
      ],
      "text/plain": [
       "     [,1] [,2]\n",
       "[1,]  2.2 17.6\n",
       "[2,] 11.0  4.4"
      ]
     },
     "metadata": {},
     "output_type": "display_data"
    }
   ],
   "source": [
    "3.4*A- 1.2*A"
   ]
  },
  {
   "cell_type": "code",
   "execution_count": 17,
   "id": "a6f5edfd",
   "metadata": {},
   "outputs": [
    {
     "data": {
      "text/html": [
       "<table class=\"dataframe\">\n",
       "<caption>A matrix: 2 × 2 of type dbl</caption>\n",
       "<tbody>\n",
       "\t<tr><td> 9</td><td>72</td></tr>\n",
       "\t<tr><td>45</td><td>18</td></tr>\n",
       "</tbody>\n",
       "</table>\n"
      ],
      "text/latex": [
       "A matrix: 2 × 2 of type dbl\n",
       "\\begin{tabular}{ll}\n",
       "\t  9 & 72\\\\\n",
       "\t 45 & 18\\\\\n",
       "\\end{tabular}\n"
      ],
      "text/markdown": [
       "\n",
       "A matrix: 2 × 2 of type dbl\n",
       "\n",
       "|  9 | 72 |\n",
       "| 45 | 18 |\n",
       "\n"
      ],
      "text/plain": [
       "     [,1] [,2]\n",
       "[1,]  9   72  \n",
       "[2,] 45   18  "
      ]
     },
     "metadata": {},
     "output_type": "display_data"
    }
   ],
   "source": [
    "5*A + 4*A"
   ]
  },
  {
   "cell_type": "markdown",
   "id": "3522b79c",
   "metadata": {},
   "source": [
    "## Solve()"
   ]
  },
  {
   "cell_type": "code",
   "execution_count": 20,
   "id": "a2a45c05",
   "metadata": {},
   "outputs": [
    {
     "data": {
      "text/html": [
       "<table class=\"dataframe\">\n",
       "<caption>A matrix: 3 × 3 of type dbl</caption>\n",
       "<tbody>\n",
       "\t<tr><td>1</td><td>2</td><td>3</td></tr>\n",
       "\t<tr><td>3</td><td>4</td><td>5</td></tr>\n",
       "\t<tr><td>4</td><td>5</td><td>1</td></tr>\n",
       "</tbody>\n",
       "</table>\n"
      ],
      "text/latex": [
       "A matrix: 3 × 3 of type dbl\n",
       "\\begin{tabular}{lll}\n",
       "\t 1 & 2 & 3\\\\\n",
       "\t 3 & 4 & 5\\\\\n",
       "\t 4 & 5 & 1\\\\\n",
       "\\end{tabular}\n"
      ],
      "text/markdown": [
       "\n",
       "A matrix: 3 × 3 of type dbl\n",
       "\n",
       "| 1 | 2 | 3 |\n",
       "| 3 | 4 | 5 |\n",
       "| 4 | 5 | 1 |\n",
       "\n"
      ],
      "text/plain": [
       "     [,1] [,2] [,3]\n",
       "[1,] 1    2    3   \n",
       "[2,] 3    4    5   \n",
       "[3,] 4    5    1   "
      ]
     },
     "metadata": {},
     "output_type": "display_data"
    }
   ],
   "source": [
    "y <- matrix(nrow=3 , ncol=3,byrow=T,data=c(1,2,3,3,4,5,4,5,1))\n",
    "y"
   ]
  },
  {
   "cell_type": "code",
   "execution_count": 22,
   "id": "7d417aea",
   "metadata": {},
   "outputs": [
    {
     "data": {
      "text/html": [
       "<table class=\"dataframe\">\n",
       "<caption>A matrix: 3 × 3 of type dbl</caption>\n",
       "<tbody>\n",
       "\t<tr><td>-2.1</td><td> 1.3</td><td>-0.2</td></tr>\n",
       "\t<tr><td> 1.7</td><td>-1.1</td><td> 0.4</td></tr>\n",
       "\t<tr><td>-0.1</td><td> 0.3</td><td>-0.2</td></tr>\n",
       "</tbody>\n",
       "</table>\n"
      ],
      "text/latex": [
       "A matrix: 3 × 3 of type dbl\n",
       "\\begin{tabular}{lll}\n",
       "\t -2.1 &  1.3 & -0.2\\\\\n",
       "\t  1.7 & -1.1 &  0.4\\\\\n",
       "\t -0.1 &  0.3 & -0.2\\\\\n",
       "\\end{tabular}\n"
      ],
      "text/markdown": [
       "\n",
       "A matrix: 3 × 3 of type dbl\n",
       "\n",
       "| -2.1 |  1.3 | -0.2 |\n",
       "|  1.7 | -1.1 |  0.4 |\n",
       "| -0.1 |  0.3 | -0.2 |\n",
       "\n"
      ],
      "text/plain": [
       "     [,1] [,2] [,3]\n",
       "[1,] -2.1  1.3 -0.2\n",
       "[2,]  1.7 -1.1  0.4\n",
       "[3,] -0.1  0.3 -0.2"
      ]
     },
     "metadata": {},
     "output_type": "display_data"
    }
   ],
   "source": [
    "solve(y)"
   ]
  },
  {
   "cell_type": "code",
   "execution_count": 24,
   "id": "625a7076",
   "metadata": {},
   "outputs": [
    {
     "data": {
      "text/html": [
       "<table class=\"dataframe\">\n",
       "<caption>A matrix: 3 × 3 of type dbl</caption>\n",
       "<tbody>\n",
       "\t<tr><td> 1.000000e+00</td><td>0.000000e+00</td><td>-1.110223e-16</td></tr>\n",
       "\t<tr><td>-8.326673e-16</td><td>1.000000e+00</td><td> 1.110223e-16</td></tr>\n",
       "\t<tr><td>-3.469447e-16</td><td>1.665335e-16</td><td> 1.000000e+00</td></tr>\n",
       "</tbody>\n",
       "</table>\n"
      ],
      "text/latex": [
       "A matrix: 3 × 3 of type dbl\n",
       "\\begin{tabular}{lll}\n",
       "\t  1.000000e+00 & 0.000000e+00 & -1.110223e-16\\\\\n",
       "\t -8.326673e-16 & 1.000000e+00 &  1.110223e-16\\\\\n",
       "\t -3.469447e-16 & 1.665335e-16 &  1.000000e+00\\\\\n",
       "\\end{tabular}\n"
      ],
      "text/markdown": [
       "\n",
       "A matrix: 3 × 3 of type dbl\n",
       "\n",
       "|  1.000000e+00 | 0.000000e+00 | -1.110223e-16 |\n",
       "| -8.326673e-16 | 1.000000e+00 |  1.110223e-16 |\n",
       "| -3.469447e-16 | 1.665335e-16 |  1.000000e+00 |\n",
       "\n"
      ],
      "text/plain": [
       "     [,1]          [,2]         [,3]         \n",
       "[1,]  1.000000e+00 0.000000e+00 -1.110223e-16\n",
       "[2,] -8.326673e-16 1.000000e+00  1.110223e-16\n",
       "[3,] -3.469447e-16 1.665335e-16  1.000000e+00"
      ]
     },
     "metadata": {},
     "output_type": "display_data"
    }
   ],
   "source": [
    "y %*% solve(y)"
   ]
  },
  {
   "cell_type": "markdown",
   "id": "8b590c7c",
   "metadata": {},
   "source": [
    "## Eigen values and Eigen Vectors"
   ]
  },
  {
   "cell_type": "code",
   "execution_count": 25,
   "id": "723b3922",
   "metadata": {},
   "outputs": [
    {
     "data": {
      "text/plain": [
       "eigen() decomposition\n",
       "$values\n",
       "[1]  9.6360956 -3.3238808 -0.3122148\n",
       "\n",
       "$vectors\n",
       "           [,1]       [,2]        [,3]\n",
       "[1,] -0.3707376 -0.3861027 -0.76622760\n",
       "[2,] -0.7189333 -0.4069940  0.63636323\n",
       "[3,] -0.5879528  0.8278167 -0.08909043\n"
      ]
     },
     "metadata": {},
     "output_type": "display_data"
    }
   ],
   "source": [
    "\n",
    "eigen(y)"
   ]
  }
 ],
 "metadata": {
  "kernelspec": {
   "display_name": "R",
   "language": "R",
   "name": "ir"
  },
  "language_info": {
   "codemirror_mode": "r",
   "file_extension": ".r",
   "mimetype": "text/x-r-source",
   "name": "R",
   "pygments_lexer": "r",
   "version": "4.2.2"
  }
 },
 "nbformat": 4,
 "nbformat_minor": 5
}
