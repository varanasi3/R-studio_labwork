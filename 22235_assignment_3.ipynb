{
 "cells": [
  {
   "cell_type": "markdown",
   "id": "763d8853",
   "metadata": {},
   "source": []
  },
  {
   "cell_type": "markdown",
   "id": "cd10e360",
   "metadata": {},
   "source": [
    "##  Inbuilt Functions  in R "
   ]
  },
  {
   "cell_type": "code",
   "execution_count": 12,
   "id": "e7d7ce01",
   "metadata": {},
   "outputs": [
    {
     "name": "stdout",
     "output_type": "stream",
     "text": [
      " [1]  1  2  3  4  5  6  7  8  9 10 11 12 13 14 15 16 17 18 19 20 21 22 23 24 25\n",
      "[26] 26 27 28 29 30 31 32 33 34 35 36 37 38 39 40 41 42 43 44 45 46 47 48 49 50\n",
      "[51] 51 52 53 54 55 56 57 58 59 60 61 62 63 64 65 66 67 68 69 70\n"
     ]
    }
   ],
   "source": [
    "a<- seq(1:70)  ## seq gives the sequence of numbers btw the given range\n",
    "print(a)"
   ]
  },
  {
   "cell_type": "code",
   "execution_count": 7,
   "id": "e98e67b6",
   "metadata": {},
   "outputs": [
    {
     "data": {
      "text/html": [
       "35.5"
      ],
      "text/latex": [
       "35.5"
      ],
      "text/markdown": [
       "35.5"
      ],
      "text/plain": [
       "[1] 35.5"
      ]
     },
     "metadata": {},
     "output_type": "display_data"
    }
   ],
   "source": [
    "mean(a)  ## mean gives the mean of the given numbers "
   ]
  },
  {
   "cell_type": "code",
   "execution_count": 14,
   "id": "d7518876",
   "metadata": {},
   "outputs": [
    {
     "name": "stdout",
     "output_type": "stream",
     "text": [
      "[1] 2485\n"
     ]
    }
   ],
   "source": [
    "b<- sum(a)  ## sum gives the sum of given numbers\n",
    "print(b)"
   ]
  },
  {
   "cell_type": "markdown",
   "id": "2d2d2d88",
   "metadata": {},
   "source": [
    "## User Defined Functions"
   ]
  },
  {
   "cell_type": "code",
   "execution_count": 20,
   "id": "5a84d05c",
   "metadata": {},
   "outputs": [],
   "source": [
    "cube<- function(c)   ## Creating a function which gives cubes of numbers till the given number starting from 1 \n",
    "{                    ## with argument c\n",
    "    for(i in 1:c)\n",
    "    {\n",
    "        d = i^3\n",
    "        print(d)\n",
    "    }\n",
    "}\n",
    "    "
   ]
  },
  {
   "cell_type": "code",
   "execution_count": 21,
   "id": "8905523f",
   "metadata": {},
   "outputs": [
    {
     "name": "stdout",
     "output_type": "stream",
     "text": [
      "[1] 1\n",
      "[1] 8\n",
      "[1] 27\n",
      "[1] 64\n",
      "[1] 125\n"
     ]
    }
   ],
   "source": [
    "cube(5) ## calling the function along with the argument"
   ]
  },
  {
   "cell_type": "markdown",
   "id": "1d14381d",
   "metadata": {},
   "source": [
    "### Function without an argument"
   ]
  },
  {
   "cell_type": "code",
   "execution_count": 23,
   "id": "91fad606",
   "metadata": {},
   "outputs": [],
   "source": [
    "cube<- function( )   ## Creating a function which gives cubes of numbers till the given number starting from 1\n",
    "{\n",
    "    for(i in 1:5)    ## without  argument \n",
    "    {\n",
    "        d = i^3\n",
    "        print(d)\n",
    "    }\n",
    "}\n",
    " "
   ]
  },
  {
   "cell_type": "code",
   "execution_count": 25,
   "id": "ff5b2f5d",
   "metadata": {},
   "outputs": [
    {
     "name": "stdout",
     "output_type": "stream",
     "text": [
      "[1] 1\n",
      "[1] 8\n",
      "[1] 27\n",
      "[1] 64\n",
      "[1] 125\n"
     ]
    }
   ],
   "source": [
    "cube() ## calling the function  without  the argument"
   ]
  },
  {
   "cell_type": "markdown",
   "id": "c03bcec7",
   "metadata": {},
   "source": [
    "### Function with Arguments."
   ]
  },
  {
   "cell_type": "code",
   "execution_count": 28,
   "id": "4332b724",
   "metadata": {},
   "outputs": [
    {
     "name": "stdout",
     "output_type": "stream",
     "text": [
      "[1] 3\n",
      "[1] 3\n"
     ]
    }
   ],
   "source": [
    "equation <- function(a,b) ## Function with multiple arguments\n",
    "{ \n",
    "x <- a**3+b**a\n",
    " print(x)\n",
    " }\n",
    "equation(1,2)     ## calling with direct values\n",
    "equation(a=1,b=2) ## calling with specified values\n"
   ]
  },
  {
   "cell_type": "markdown",
   "id": "15aa2eda",
   "metadata": {},
   "source": [
    "### Default Function"
   ]
  },
  {
   "cell_type": "code",
   "execution_count": 33,
   "id": "589517b9",
   "metadata": {},
   "outputs": [
    {
     "name": "stdout",
     "output_type": "stream",
     "text": [
      "[1] 60\n"
     ]
    }
   ],
   "source": [
    "default <- function(a = 10,b =6)  ## arguments are given in the declaration \n",
    "{ z <- a*b              \n",
    "print(z) \n",
    "}\n",
    "default()  ## but not assigned while calling and takes the previously given values\n"
   ]
  },
  {
   "cell_type": "markdown",
   "id": "42d134b2",
   "metadata": {},
   "source": [
    "### Lazy Evaluation of the function"
   ]
  },
  {
   "cell_type": "code",
   "execution_count": 38,
   "id": "27ccd9b2",
   "metadata": {},
   "outputs": [],
   "source": [
    " new <- function(a, b)  # function is declared with some parameters\n",
    "{ print(a^2) \n",
    "print(a) \n",
    "}\n"
   ]
  },
  {
   "cell_type": "code",
   "execution_count": 40,
   "id": "54f1a55c",
   "metadata": {},
   "outputs": [
    {
     "name": "stdout",
     "output_type": "stream",
     "text": [
      "[1] 4\n",
      "[1] 2\n"
     ]
    }
   ],
   "source": [
    "new(2) # but while calling , not all parameters are given \n",
    "        # even then it can run without errors \n",
    "        # because it is not used inside the function"
   ]
  },
  {
   "cell_type": "markdown",
   "id": "c437e4e9",
   "metadata": {},
   "source": [
    "## R strings"
   ]
  },
  {
   "cell_type": "code",
   "execution_count": 44,
   "id": "6b689b4a",
   "metadata": {},
   "outputs": [
    {
     "name": "stdout",
     "output_type": "stream",
     "text": [
      "[1] \"single quote.\"\n"
     ]
    }
   ],
   "source": [
    "a<- 'single quote.'  # valid\n",
    "print(a) \n"
   ]
  },
  {
   "cell_type": "code",
   "execution_count": 46,
   "id": "6079e262",
   "metadata": {},
   "outputs": [
    {
     "name": "stdout",
     "output_type": "stream",
     "text": [
      "[1] \"double quotes\"\n"
     ]
    }
   ],
   "source": [
    "b <- \"double quotes\" # valid\n",
    "print(b) \n"
   ]
  },
  {
   "cell_type": "code",
   "execution_count": 48,
   "id": "29a29061",
   "metadata": {},
   "outputs": [
    {
     "name": "stdout",
     "output_type": "stream",
     "text": [
      "[1] \"single quote ' in between double quotes\"\n"
     ]
    }
   ],
   "source": [
    "c <- \"single quote ' in between double quotes\"  # valid\n",
    "print(c) \n"
   ]
  },
  {
   "cell_type": "code",
   "execution_count": 50,
   "id": "09999eb9",
   "metadata": {},
   "outputs": [
    {
     "name": "stdout",
     "output_type": "stream",
     "text": [
      "[1] \"Double quotes \\\" in between single quote\"\n"
     ]
    }
   ],
   "source": [
    "d <- 'Double quotes \" in between single quote' # valid\n",
    "print(d)\n"
   ]
  },
  {
   "cell_type": "code",
   "execution_count": 53,
   "id": "2c360bdf",
   "metadata": {},
   "outputs": [
    {
     "ename": "ERROR",
     "evalue": "Error in parse(text = x, srcfile = src): <text>:1:6: unexpected INCOMPLETE_STRING\n3: \n4: \n        ^\n",
     "output_type": "error",
     "traceback": [
      "Error in parse(text = x, srcfile = src): <text>:1:6: unexpected INCOMPLETE_STRING\n3: \n4: \n        ^\nTraceback:\n"
     ]
    }
   ],
   "source": [
    "e <- 'Mixed quotes\"        ## invalid\n",
    "print(e) \n",
    "\n"
   ]
  },
  {
   "cell_type": "code",
   "execution_count": 56,
   "id": "65f633ce",
   "metadata": {},
   "outputs": [
    {
     "ename": "ERROR",
     "evalue": "Error in parse(text = x, srcfile = src): <text>:1:22: unexpected symbol\n1: f <- 'Single quote ' inside\n                         ^\n",
     "output_type": "error",
     "traceback": [
      "Error in parse(text = x, srcfile = src): <text>:1:22: unexpected symbol\n1: f <- 'Single quote ' inside\n                         ^\nTraceback:\n"
     ]
    }
   ],
   "source": [
    "f <- 'Single quote ' inside single quote'  ## invalid\n",
    "print(f)\n"
   ]
  },
  {
   "cell_type": "code",
   "execution_count": 59,
   "id": "b7932fb4",
   "metadata": {},
   "outputs": [
    {
     "ename": "ERROR",
     "evalue": "Error in parse(text = x, srcfile = src): <text>:1:24: unexpected symbol\n1:  g <- \"Double quotes \" inside\n                           ^\n",
     "output_type": "error",
     "traceback": [
      "Error in parse(text = x, srcfile = src): <text>:1:24: unexpected symbol\n1:  g <- \"Double quotes \" inside\n                           ^\nTraceback:\n"
     ]
    }
   ],
   "source": [
    " g <- \"Double quotes \" inside double quotes\"  ## invalid\n",
    "print(g)\n"
   ]
  },
  {
   "cell_type": "markdown",
   "id": "2c1f1bcb",
   "metadata": {},
   "source": [
    "## String Concatenation"
   ]
  },
  {
   "cell_type": "code",
   "execution_count": 61,
   "id": "d6b2ba26",
   "metadata": {},
   "outputs": [],
   "source": [
    "a <- \"Om\" \n",
    "b <- 'Sri' \n",
    "c <- \"Sai Ram \" \n"
   ]
  },
  {
   "cell_type": "code",
   "execution_count": 62,
   "id": "3613b6f9",
   "metadata": {},
   "outputs": [
    {
     "name": "stdout",
     "output_type": "stream",
     "text": [
      "[1] \"Om Sri Sai Ram \"\n",
      "[1] \"Om-Sri-Sai Ram \"\n",
      "[1] \"OmSriSai Ram \"\n"
     ]
    }
   ],
   "source": [
    "print(paste(a,b,c)) \n",
    "print(paste(a,b,c, sep = \"-\")) \n",
    "print(paste(a,b,c, sep = \"\", collapse = \"\"))\n"
   ]
  }
 ],
 "metadata": {
  "kernelspec": {
   "display_name": "R",
   "language": "R",
   "name": "ir"
  },
  "language_info": {
   "codemirror_mode": "r",
   "file_extension": ".r",
   "mimetype": "text/x-r-source",
   "name": "R",
   "pygments_lexer": "r",
   "version": "3.6.1"
  }
 },
 "nbformat": 4,
 "nbformat_minor": 5
}
