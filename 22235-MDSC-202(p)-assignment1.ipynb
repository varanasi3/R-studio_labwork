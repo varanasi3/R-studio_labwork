{
 "cells": [
  {
   "cell_type": "markdown",
   "id": "551b10d9",
   "metadata": {},
   "source": [
    "### Matrix "
   ]
  },
  {
   "cell_type": "code",
   "execution_count": 3,
   "id": "61839a6b",
   "metadata": {},
   "outputs": [
    {
     "data": {
      "text/html": [
       "<table class=\"dataframe\">\n",
       "<caption>A matrix: 3 × 3 of type dbl</caption>\n",
       "<tbody>\n",
       "\t<tr><td>78</td><td> 2</td><td>13</td></tr>\n",
       "\t<tr><td> 1</td><td> 3</td><td>13</td></tr>\n",
       "\t<tr><td> 1</td><td>45</td><td>78</td></tr>\n",
       "</tbody>\n",
       "</table>\n"
      ],
      "text/latex": [
       "A matrix: 3 × 3 of type dbl\n",
       "\\begin{tabular}{lll}\n",
       "\t 78 &  2 & 13\\\\\n",
       "\t  1 &  3 & 13\\\\\n",
       "\t  1 & 45 & 78\\\\\n",
       "\\end{tabular}\n"
      ],
      "text/markdown": [
       "\n",
       "A matrix: 3 × 3 of type dbl\n",
       "\n",
       "| 78 |  2 | 13 |\n",
       "|  1 |  3 | 13 |\n",
       "|  1 | 45 | 78 |\n",
       "\n"
      ],
      "text/plain": [
       "     [,1] [,2] [,3]\n",
       "[1,] 78    2   13  \n",
       "[2,]  1    3   13  \n",
       "[3,]  1   45   78  "
      ]
     },
     "metadata": {},
     "output_type": "display_data"
    }
   ],
   "source": [
    "A<- matrix(data= c(78,2,13,1,3,13,1,45,78),nrow =3,ncol=3,byrow = TRUE)\n",
    "A"
   ]
  },
  {
   "cell_type": "code",
   "execution_count": 5,
   "id": "8fb18398",
   "metadata": {},
   "outputs": [
    {
     "data": {
      "text/html": [
       "<table class=\"dataframe\">\n",
       "<caption>A matrix: 2 × 9 of type int</caption>\n",
       "<tbody>\n",
       "\t<tr><td>-1</td><td>0</td><td>1</td><td>2</td><td>3</td><td>4</td><td>5</td><td>6</td><td>7</td></tr>\n",
       "\t<tr><td> 0</td><td>1</td><td>2</td><td>3</td><td>4</td><td>5</td><td>6</td><td>7</td><td>8</td></tr>\n",
       "</tbody>\n",
       "</table>\n"
      ],
      "text/latex": [
       "A matrix: 2 × 9 of type int\n",
       "\\begin{tabular}{lllllllll}\n",
       "\t -1 & 0 & 1 & 2 & 3 & 4 & 5 & 6 & 7\\\\\n",
       "\t  0 & 1 & 2 & 3 & 4 & 5 & 6 & 7 & 8\\\\\n",
       "\\end{tabular}\n"
      ],
      "text/markdown": [
       "\n",
       "A matrix: 2 × 9 of type int\n",
       "\n",
       "| -1 | 0 | 1 | 2 | 3 | 4 | 5 | 6 | 7 |\n",
       "|  0 | 1 | 2 | 3 | 4 | 5 | 6 | 7 | 8 |\n",
       "\n"
      ],
      "text/plain": [
       "     [,1] [,2] [,3] [,4] [,5] [,6] [,7] [,8] [,9]\n",
       "[1,] -1   0    1    2    3    4    5    6    7   \n",
       "[2,]  0   1    2    3    4    5    6    7    8   "
      ]
     },
     "metadata": {},
     "output_type": "display_data"
    }
   ],
   "source": [
    "rbind(-1:7,0:8)"
   ]
  },
  {
   "cell_type": "code",
   "execution_count": 7,
   "id": "54b4ee81",
   "metadata": {},
   "outputs": [
    {
     "data": {
      "text/html": [
       "<table class=\"dataframe\">\n",
       "<caption>A matrix: 9 × 2 of type int</caption>\n",
       "<tbody>\n",
       "\t<tr><td>-1</td><td>0</td></tr>\n",
       "\t<tr><td> 0</td><td>1</td></tr>\n",
       "\t<tr><td> 1</td><td>2</td></tr>\n",
       "\t<tr><td> 2</td><td>3</td></tr>\n",
       "\t<tr><td> 3</td><td>4</td></tr>\n",
       "\t<tr><td> 4</td><td>5</td></tr>\n",
       "\t<tr><td> 5</td><td>6</td></tr>\n",
       "\t<tr><td> 6</td><td>7</td></tr>\n",
       "\t<tr><td> 7</td><td>8</td></tr>\n",
       "</tbody>\n",
       "</table>\n"
      ],
      "text/latex": [
       "A matrix: 9 × 2 of type int\n",
       "\\begin{tabular}{ll}\n",
       "\t -1 & 0\\\\\n",
       "\t  0 & 1\\\\\n",
       "\t  1 & 2\\\\\n",
       "\t  2 & 3\\\\\n",
       "\t  3 & 4\\\\\n",
       "\t  4 & 5\\\\\n",
       "\t  5 & 6\\\\\n",
       "\t  6 & 7\\\\\n",
       "\t  7 & 8\\\\\n",
       "\\end{tabular}\n"
      ],
      "text/markdown": [
       "\n",
       "A matrix: 9 × 2 of type int\n",
       "\n",
       "| -1 | 0 |\n",
       "|  0 | 1 |\n",
       "|  1 | 2 |\n",
       "|  2 | 3 |\n",
       "|  3 | 4 |\n",
       "|  4 | 5 |\n",
       "|  5 | 6 |\n",
       "|  6 | 7 |\n",
       "|  7 | 8 |\n",
       "\n"
      ],
      "text/plain": [
       "      [,1] [,2]\n",
       " [1,] -1   0   \n",
       " [2,]  0   1   \n",
       " [3,]  1   2   \n",
       " [4,]  2   3   \n",
       " [5,]  3   4   \n",
       " [6,]  4   5   \n",
       " [7,]  5   6   \n",
       " [8,]  6   7   \n",
       " [9,]  7   8   "
      ]
     },
     "metadata": {},
     "output_type": "display_data"
    }
   ],
   "source": [
    "cbind(-1:7,0:8)"
   ]
  },
  {
   "cell_type": "markdown",
   "id": "22069db1",
   "metadata": {},
   "source": [
    "## Dimension"
   ]
  },
  {
   "cell_type": "code",
   "execution_count": 9,
   "id": "5f20dd6d",
   "metadata": {},
   "outputs": [
    {
     "data": {
      "text/html": [
       "<style>\n",
       ".list-inline {list-style: none; margin:0; padding: 0}\n",
       ".list-inline>li {display: inline-block}\n",
       ".list-inline>li:not(:last-child)::after {content: \"\\00b7\"; padding: 0 .5ex}\n",
       "</style>\n",
       "<ol class=list-inline><li>3</li><li>3</li></ol>\n"
      ],
      "text/latex": [
       "\\begin{enumerate*}\n",
       "\\item 3\n",
       "\\item 3\n",
       "\\end{enumerate*}\n"
      ],
      "text/markdown": [
       "1. 3\n",
       "2. 3\n",
       "\n",
       "\n"
      ],
      "text/plain": [
       "[1] 3 3"
      ]
     },
     "metadata": {},
     "output_type": "display_data"
    }
   ],
   "source": [
    "dim(A)"
   ]
  },
  {
   "cell_type": "code",
   "execution_count": 11,
   "id": "8c6d6908",
   "metadata": {},
   "outputs": [
    {
     "data": {
      "text/html": [
       "3"
      ],
      "text/latex": [
       "3"
      ],
      "text/markdown": [
       "3"
      ],
      "text/plain": [
       "[1] 3"
      ]
     },
     "metadata": {},
     "output_type": "display_data"
    }
   ],
   "source": [
    "nrow(A)"
   ]
  },
  {
   "cell_type": "code",
   "execution_count": 13,
   "id": "47aa6d7e",
   "metadata": {},
   "outputs": [
    {
     "data": {
      "text/html": [
       "3"
      ],
      "text/latex": [
       "3"
      ],
      "text/markdown": [
       "3"
      ],
      "text/plain": [
       "[1] 3"
      ]
     },
     "metadata": {},
     "output_type": "display_data"
    }
   ],
   "source": [
    "ncol(A)"
   ]
  },
  {
   "cell_type": "code",
   "execution_count": 16,
   "id": "1e9a9193",
   "metadata": {},
   "outputs": [
    {
     "data": {
      "text/html": [
       "3"
      ],
      "text/latex": [
       "3"
      ],
      "text/markdown": [
       "3"
      ],
      "text/plain": [
       "[1] 3"
      ]
     },
     "metadata": {},
     "output_type": "display_data"
    }
   ],
   "source": [
    "dim(A)[2]"
   ]
  },
  {
   "cell_type": "markdown",
   "id": "5c6c9ae6",
   "metadata": {},
   "source": [
    "## Extract elements of a matrix"
   ]
  },
  {
   "cell_type": "code",
   "execution_count": 19,
   "id": "252b96a5",
   "metadata": {},
   "outputs": [
    {
     "name": "stdout",
     "output_type": "stream",
     "text": [
      "[1] 78\n"
     ]
    }
   ],
   "source": [
    "print(A[3,3])"
   ]
  },
  {
   "cell_type": "code",
   "execution_count": 21,
   "id": "14620f59",
   "metadata": {},
   "outputs": [
    {
     "name": "stdout",
     "output_type": "stream",
     "text": [
      "     [,1] [,2]\n",
      "[1,]    2   78\n",
      "[2,]    3    1\n",
      "[3,]   45    1\n"
     ]
    }
   ],
   "source": [
    "print(A[,c(2,1)])"
   ]
  },
  {
   "cell_type": "code",
   "execution_count": 23,
   "id": "af02fabf",
   "metadata": {},
   "outputs": [
    {
     "name": "stdout",
     "output_type": "stream",
     "text": [
      "[1]  1  3 13\n"
     ]
    }
   ],
   "source": [
    "\n",
    "print(A[2,])"
   ]
  },
  {
   "cell_type": "code",
   "execution_count": 25,
   "id": "e37ddcb0",
   "metadata": {},
   "outputs": [
    {
     "name": "stdout",
     "output_type": "stream",
     "text": [
      "[1]  2  3 45\n"
     ]
    }
   ],
   "source": [
    "\n",
    "print(A[,2])"
   ]
  },
  {
   "cell_type": "code",
   "execution_count": 27,
   "id": "b85d4ec8",
   "metadata": {},
   "outputs": [
    {
     "name": "stdout",
     "output_type": "stream",
     "text": [
      "[1] 1 1 2\n"
     ]
    }
   ],
   "source": [
    "\n",
    "print(A[2:4])"
   ]
  },
  {
   "cell_type": "markdown",
   "id": "65f0a59f",
   "metadata": {},
   "source": [
    "## matrix manipulations"
   ]
  },
  {
   "cell_type": "code",
   "execution_count": 29,
   "id": "a3ec0872",
   "metadata": {},
   "outputs": [
    {
     "name": "stdout",
     "output_type": "stream",
     "text": [
      "     [,1] [,2]\n",
      "[1,]    2   13\n",
      "[2,]    3   13\n",
      "[3,]   45   78\n"
     ]
    }
   ],
   "source": [
    "\n",
    "print(A[,-1])"
   ]
  },
  {
   "cell_type": "code",
   "execution_count": 31,
   "id": "4afbc5a4",
   "metadata": {},
   "outputs": [
    {
     "name": "stdout",
     "output_type": "stream",
     "text": [
      "     [,1] [,2]\n",
      "[1,]    1   13\n",
      "[2,]    1   78\n"
     ]
    }
   ],
   "source": [
    "\n",
    "print(A[-1,-2])"
   ]
  },
  {
   "cell_type": "code",
   "execution_count": 34,
   "id": "d5995562",
   "metadata": {},
   "outputs": [
    {
     "data": {
      "text/html": [
       "<table class=\"dataframe\">\n",
       "<caption>A matrix: 3 × 3 of type dbl</caption>\n",
       "<tbody>\n",
       "\t<tr><td>78</td><td> 2</td><td>13</td></tr>\n",
       "\t<tr><td> 1</td><td> 3</td><td>13</td></tr>\n",
       "\t<tr><td> 1</td><td>45</td><td>78</td></tr>\n",
       "</tbody>\n",
       "</table>\n"
      ],
      "text/latex": [
       "A matrix: 3 × 3 of type dbl\n",
       "\\begin{tabular}{lll}\n",
       "\t 78 &  2 & 13\\\\\n",
       "\t  1 &  3 & 13\\\\\n",
       "\t  1 & 45 & 78\\\\\n",
       "\\end{tabular}\n"
      ],
      "text/markdown": [
       "\n",
       "A matrix: 3 × 3 of type dbl\n",
       "\n",
       "| 78 |  2 | 13 |\n",
       "|  1 |  3 | 13 |\n",
       "|  1 | 45 | 78 |\n",
       "\n"
      ],
      "text/plain": [
       "     [,1] [,2] [,3]\n",
       "[1,] 78    2   13  \n",
       "[2,]  1    3   13  \n",
       "[3,]  1   45   78  "
      ]
     },
     "metadata": {},
     "output_type": "display_data"
    }
   ],
   "source": [
    "\n",
    "b<-A\n",
    "b"
   ]
  },
  {
   "cell_type": "code",
   "execution_count": 37,
   "id": "a873dfeb",
   "metadata": {},
   "outputs": [
    {
     "name": "stdout",
     "output_type": "stream",
     "text": [
      "     [,1] [,2] [,3]\n",
      "[1,]   78    2   13\n",
      "[2,]    1   99   13\n",
      "[3,]    2    0   78\n"
     ]
    }
   ],
   "source": [
    "\n",
    "b[c(2,3),2:1]<-c(99,0,1,2)\n",
    "print(b)"
   ]
  },
  {
   "cell_type": "code",
   "execution_count": 41,
   "id": "e398b2a5",
   "metadata": {},
   "outputs": [],
   "source": [
    "diag(x=b)<-rep(x=0,times=1)\n"
   ]
  },
  {
   "cell_type": "code",
   "execution_count": 42,
   "id": "499cfba9",
   "metadata": {},
   "outputs": [
    {
     "name": "stdout",
     "output_type": "stream",
     "text": [
      "     [,1] [,2] [,3]\n",
      "[1,]    0    2   13\n",
      "[2,]    1    0   13\n",
      "[3,]    2    0    0\n"
     ]
    }
   ],
   "source": [
    "\n",
    "print(b)"
   ]
  }
 ],
 "metadata": {
  "kernelspec": {
   "display_name": "R",
   "language": "R",
   "name": "ir"
  },
  "language_info": {
   "codemirror_mode": "r",
   "file_extension": ".r",
   "mimetype": "text/x-r-source",
   "name": "R",
   "pygments_lexer": "r",
   "version": "4.2.2"
  }
 },
 "nbformat": 4,
 "nbformat_minor": 5
}
